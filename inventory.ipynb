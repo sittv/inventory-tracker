{
 "cells": [
  {
   "cell_type": "code",
   "execution_count": 7,
   "metadata": {
    "collapsed": true,
    "pycharm": {
     "is_executing": false
    }
   },
   "outputs": [],
   "source": [
    "\n",
    "import sqlite3\n",
    "\n",
    "\n",
    "conn = sqlite3.connect('inventory.db')\n",
    "conn.row_factory = sqlite3.Row\n",
    "cursor = conn.cursor()\n",
    "\n",
    "\n",
    "# Ensure that the inventory table exists\n",
    "cursor.executescript('''\n",
    "CREATE TABLE IF NOT EXISTS inventory (\n",
    "    id INTEGER PRIMARY KEY autoincrement,\n",
    "    barcode TEXT,\n",
    "    location TEXT,\n",
    "    name TEXT NOT NULL,\n",
    "    UNIQUE (id, name)\n",
    ");\n",
    "\n",
    "CREATE TABLE if not exists checkout_log (\n",
    "    id INTEGER PRIMARY KEY autoincrement, \n",
    "    checkoutTime DATETIME DEFAULT CURRENT_TIMESTAMP,\n",
    "    person text NON NULL,\n",
    "    itemID INTEGER NON NULL, \n",
    "    returned BOOL DEFAULT FALSE\n",
    ");\n",
    "\n",
    "CREATE TABLE if not exists users (\n",
    "    userId INTEGER primary key autoincrement,\n",
    "    actualName text unique,\n",
    "    password text unique \n",
    ");\n",
    "\n",
    "CREATE TABLE if not exists user_log (\n",
    "    id INTEGER primary key autoincrement,\n",
    "    theTime DATETIME DEFAULT CURRENT_TIMESTAMP,\n",
    "    userId integer,\n",
    "    action text,\n",
    "    authenticated BOOL\n",
    ");\n",
    "''')\n",
    "cursor.connection.commit()\n"
   ]
  },
  {
   "cell_type": "code",
   "execution_count": 46,
   "outputs": [],
   "source": [
    "def add_user(name, password):\n",
    "    cursor.execute(\"INSERT INTO users (actualName, password) VALUES (?, ?)\", (name, password))\n",
    "    conn.commit()\n",
    "\n",
    "def check_login(password):\n",
    "    row = cursor.execute(\"SELECT userId from users where password = ? LIMIT 1;\", [password]).fetchone()\n",
    "    if row is None:\n",
    "        return None\n",
    "    \n",
    "    return row[\"userId\"]\n",
    "    \n",
    "    \n",
    "def add_item(name, location=None, barcode=None):\n",
    "    cursor.execute(\"INSERT into inventory (location, name, barcode) VALUES (?, ?, ?)\", (location, name, barcode))\n",
    "    conn.commit()\n",
    "\n",
    "\n",
    "def set_location(id, location):\n",
    "    cursor.execute(\"UPDATE inventory SET location = ? WHERE id = ?\", (location, id))\n",
    "    conn.commit()\n",
    "\n",
    "def use_item(id, person):\n",
    "    cursor.execute(\"INSERT into checkout_log (itemID, person, returned) VALUES (?, ?, false)\", (id, person))\n",
    "    conn.commit()\n",
    "\n",
    "def return_item(id, person):\n",
    "    cursor.execute(\"INSERT into checkout_log (itemID, person, returned) VALUES (?, ?, true)\", (id, person))\n",
    "    conn.commit()\n",
    "    \n",
    "    \n",
    "def set_location_barcode(barcode, location):\n",
    "    cursor.execute(\"UPDATE inventory SET location = ? WHERE barcode = ?\", (location, barcode))\n",
    "    conn.commit()\n",
    "\n",
    "def use_item_barcode(barcode, person):\n",
    "    cursor.execute(\"INSERT into checkout_log (itemID, person, returned) VALUES ((SELECT inventory.id from inventory where barcode = ?), ?, false)\", (barcode, person))\n",
    "    conn.commit()\n",
    "\n",
    "def return_item_barcode(barcode, person):\n",
    "    cursor.execute(\"INSERT into checkout_log (itemID, person, returned) VALUES ((SELECT inventory.id from inventory where barcode = ?), ?, false)\", (barcode, person))\n",
    "    conn.commit()\n",
    "    \n",
    "def set_barcode(itemId, barcode):\n",
    "    cursor.execute(\"UPDATE inventory set barcode = ? where id = ?\", (barcode, itemId))\n",
    "    conn.commit()\n",
    "    \n",
    "def get_all_items():\n",
    "    rows = cursor.execute(\"with itemsReturned as (\\n    select max(id) as max_id, itemID, not(returned) as in_use\\n    from checkout_log\\n    group by itemID)\\n\\n\\nselect inventory.id, barcode, location, name, IFNULL(in_use, FALSE) as in_use\\nfrom inventory left outer join itemsReturned on inventory.id = itemID;\").fetchall()\n",
    "    return [dict(i) for i in rows]"
   ],
   "metadata": {
    "collapsed": false,
    "pycharm": {
     "name": "#%%\n",
     "is_executing": false
    }
   }
  },
  {
   "cell_type": "code",
   "execution_count": 12,
   "outputs": [],
   "source": [
    "add_item(\"world\")\n",
    "use_item(1, \"Jesse\")\n",
    "return_item(1, \"Jesse\")"
   ],
   "metadata": {
    "collapsed": false,
    "pycharm": {
     "name": "#%%\n",
     "is_executing": false
    }
   }
  },
  {
   "cell_type": "code",
   "execution_count": 33,
   "outputs": [
    {
     "data": {
      "text/plain": "[{'id': 1, 'barcode': None, 'location': None, 'name': 'world', 'in_use': 0}]"
     },
     "metadata": {},
     "output_type": "execute_result",
     "execution_count": 33
    }
   ],
   "source": [
    "get_all_items()\n",
    "\n",
    "# conn.close()"
   ],
   "metadata": {
    "collapsed": false,
    "pycharm": {
     "name": "#%%\n",
     "is_executing": false
    }
   }
  },
  {
   "cell_type": "code",
   "execution_count": 34,
   "outputs": [],
   "source": [
    "use_item(4, \"Jesse\")\n"
   ],
   "metadata": {
    "collapsed": false,
    "pycharm": {
     "name": "#%%\n",
     "is_executing": false
    }
   }
  },
  {
   "cell_type": "code",
   "execution_count": 35,
   "outputs": [],
   "source": [
    "add_item(\"hello\")\n"
   ],
   "metadata": {
    "collapsed": false,
    "pycharm": {
     "name": "#%%\n",
     "is_executing": false
    }
   }
  },
  {
   "cell_type": "code",
   "execution_count": 36,
   "outputs": [],
   "source": [
    "return_item(4, \"Fooey\")"
   ],
   "metadata": {
    "collapsed": false,
    "pycharm": {
     "name": "#%%\n",
     "is_executing": false
    }
   }
  },
  {
   "cell_type": "code",
   "execution_count": 48,
   "outputs": [
    {
     "data": {
      "text/plain": "1"
     },
     "metadata": {},
     "output_type": "execute_result",
     "execution_count": 48
    }
   ],
   "source": [
    "check_login(\"hello\")"
   ],
   "metadata": {
    "collapsed": false,
    "pycharm": {
     "name": "#%%\n",
     "is_executing": false
    }
   }
  },
  {
   "cell_type": "code",
   "execution_count": 38,
   "outputs": [
    {
     "traceback": [
      "\u001b[0;31m---------------------------------------------------------------------------\u001b[0m",
      "\u001b[0;31mIntegrityError\u001b[0m                            Traceback (most recent call last)",
      "\u001b[0;32m<ipython-input-38-446d289a7f54>\u001b[0m in \u001b[0;36m<module>\u001b[0;34m\u001b[0m\n\u001b[1;32m      1\u001b[0m \u001b[0;34m\u001b[0m\u001b[0m\n\u001b[0;32m----> 2\u001b[0;31m \u001b[0madd_user\u001b[0m\u001b[0;34m(\u001b[0m\u001b[0;34m\"jesse\"\u001b[0m\u001b[0;34m,\u001b[0m \u001b[0;34m\"hello\"\u001b[0m\u001b[0;34m)\u001b[0m\u001b[0;34m\u001b[0m\u001b[0;34m\u001b[0m\u001b[0m\n\u001b[0m\u001b[1;32m      3\u001b[0m \u001b[0;34m\u001b[0m\u001b[0m\n",
      "\u001b[0;32m<ipython-input-30-7fbaaab30975>\u001b[0m in \u001b[0;36madd_user\u001b[0;34m(name, password)\u001b[0m\n\u001b[1;32m      1\u001b[0m \u001b[0;34m\u001b[0m\u001b[0m\n\u001b[1;32m      2\u001b[0m \u001b[0;32mdef\u001b[0m \u001b[0madd_user\u001b[0m\u001b[0;34m(\u001b[0m\u001b[0mname\u001b[0m\u001b[0;34m,\u001b[0m \u001b[0mpassword\u001b[0m\u001b[0;34m)\u001b[0m\u001b[0;34m:\u001b[0m\u001b[0;34m\u001b[0m\u001b[0;34m\u001b[0m\u001b[0m\n\u001b[0;32m----> 3\u001b[0;31m     \u001b[0mcursor\u001b[0m\u001b[0;34m.\u001b[0m\u001b[0mexecute\u001b[0m\u001b[0;34m(\u001b[0m\u001b[0;34m\"INSERT INTO users (actualName, password) VALUES (?, ?)\"\u001b[0m\u001b[0;34m,\u001b[0m \u001b[0;34m(\u001b[0m\u001b[0mname\u001b[0m\u001b[0;34m,\u001b[0m \u001b[0mpassword\u001b[0m\u001b[0;34m)\u001b[0m\u001b[0;34m)\u001b[0m\u001b[0;34m\u001b[0m\u001b[0;34m\u001b[0m\u001b[0m\n\u001b[0m\u001b[1;32m      4\u001b[0m     \u001b[0mconn\u001b[0m\u001b[0;34m.\u001b[0m\u001b[0mcommit\u001b[0m\u001b[0;34m(\u001b[0m\u001b[0;34m)\u001b[0m\u001b[0;34m\u001b[0m\u001b[0;34m\u001b[0m\u001b[0m\n\u001b[1;32m      5\u001b[0m \u001b[0;34m\u001b[0m\u001b[0m\n",
      "\u001b[0;31mIntegrityError\u001b[0m: UNIQUE constraint failed: users.actualName"
     ],
     "ename": "IntegrityError",
     "evalue": "UNIQUE constraint failed: users.actualName",
     "output_type": "error"
    }
   ],
   "source": [
    "add_user(\"jesse\", \"hello\")"
   ],
   "metadata": {
    "collapsed": false,
    "pycharm": {
     "name": "#%%\n",
     "is_executing": false
    }
   }
  },
  {
   "cell_type": "code",
   "execution_count": null,
   "outputs": [],
   "source": [
    "\n",
    "\n",
    "conn.close()"
   ],
   "metadata": {
    "collapsed": false,
    "pycharm": {
     "name": "#%%\n"
    }
   }
  }
 ],
 "metadata": {
  "kernelspec": {
   "display_name": "Python 3",
   "language": "python",
   "name": "python3"
  },
  "language_info": {
   "codemirror_mode": {
    "name": "ipython",
    "version": 2
   },
   "file_extension": ".py",
   "mimetype": "text/x-python",
   "name": "python",
   "nbconvert_exporter": "python",
   "pygments_lexer": "ipython2",
   "version": "2.7.6"
  },
  "pycharm": {
   "stem_cell": {
    "cell_type": "raw",
    "source": [],
    "metadata": {
     "collapsed": false
    }
   }
  }
 },
 "nbformat": 4,
 "nbformat_minor": 0
}